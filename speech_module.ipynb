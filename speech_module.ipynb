{
  "nbformat": 4,
  "nbformat_minor": 0,
  "metadata": {
    "colab": {
      "provenance": []
    },
    "kernelspec": {
      "name": "python3",
      "display_name": "Python 3"
    },
    "language_info": {
      "name": "python"
    }
  },
  "cells": [
    {
      "cell_type": "markdown",
      "source": [
        "تحويل الصوت إلى نص (Speech-to-Text):\n"
      ],
      "metadata": {
        "id": "RhKjJq3H0BEX"
      }
    },
    {
      "cell_type": "code",
      "execution_count": 1,
      "metadata": {
        "colab": {
          "base_uri": "https://localhost:8080/"
        },
        "id": "uIYItR76z04j",
        "outputId": "e21baab1-611f-4f70-f490-8cd4e58f5cdd"
      },
      "outputs": [
        {
          "output_type": "stream",
          "name": "stdout",
          "text": [
            "Collecting SpeechRecognition\n",
            "  Downloading speechrecognition-3.14.3-py3-none-any.whl.metadata (30 kB)\n",
            "Requirement already satisfied: typing-extensions in /usr/local/lib/python3.11/dist-packages (from SpeechRecognition) (4.14.1)\n",
            "Downloading speechrecognition-3.14.3-py3-none-any.whl (32.9 MB)\n",
            "\u001b[2K   \u001b[90m━━━━━━━━━━━━━━━━━━━━━━━━━━━━━━━━━━━━━━━━\u001b[0m \u001b[32m32.9/32.9 MB\u001b[0m \u001b[31m49.9 MB/s\u001b[0m eta \u001b[36m0:00:00\u001b[0m\n",
            "\u001b[?25hInstalling collected packages: SpeechRecognition\n",
            "Successfully installed SpeechRecognition-3.14.3\n"
          ]
        }
      ],
      "source": [
        "!pip install SpeechRecognition"
      ]
    },
    {
      "cell_type": "code",
      "source": [
        "import speech_recognition as sr\n",
        "\n",
        "\n",
        "recognizer = sr.Recognizer()\n",
        "\n",
        "\n",
        "audio_path = \"/content/audio.wav\"\n",
        "\n",
        "with sr.AudioFile(audio_path) as source:\n",
        "    audio = recognizer.record(source)\n",
        "\n",
        "try:\n",
        "\n",
        "    text_output = recognizer.recognize_google(audio, language=\"ar-SA\")\n",
        "    print(\"النص المحول:\", text_output)\n",
        "except sr.UnknownValueError:\n",
        "    print(\"لم يتم التعرف على الكلام.\")\n",
        "except sr.RequestError as e:\n",
        "    print(\"فشل الاتصال بخدمة Google:\", e)\n"
      ],
      "metadata": {
        "colab": {
          "base_uri": "https://localhost:8080/"
        },
        "id": "lfc0zAXo0jEc",
        "outputId": "5918754a-6d2b-4ba3-96ce-21e91d93451f"
      },
      "execution_count": 2,
      "outputs": [
        {
          "output_type": "stream",
          "name": "stdout",
          "text": [
            "النص المحول: استعدادا للاقلاع المرجو التاكد من ان احزمه مقاعدكم مربوطه ظهور وملحقات المقاعد في اوضاعها الطبيعيه وستائر النوافذ مفتوحه شكرا لانتباهكم ونتمنى لكم رحله سعيده\n"
          ]
        }
      ]
    },
    {
      "cell_type": "markdown",
      "source": [
        "تحويل النص إلى صوت (Text-to-Speech)"
      ],
      "metadata": {
        "id": "1dgZ3RF309kT"
      }
    },
    {
      "cell_type": "code",
      "source": [
        "!pip install gTTS\n",
        "\n",
        "from gtts import gTTS\n",
        "from IPython.display import Audio\n",
        "\n",
        "# النص المراد تحويله إلى صوت\n",
        "text =  \"أحتاج مساعدة\"\n",
        "\n",
        "\n",
        "tts = gTTS(text=text, lang='ar')\n",
        "\n",
        "\n",
        "tts.save(\"output_audio.mp3\")\n",
        "\n",
        "\n",
        "Audio(\"output_audio.mp3\", autoplay=True)"
      ],
      "metadata": {
        "colab": {
          "base_uri": "https://localhost:8080/",
          "height": 387
        },
        "id": "Qbvjz2P204Mn",
        "outputId": "1c34af59-16bd-4acc-b616-3e26ec84f9a9"
      },
      "execution_count": 3,
      "outputs": [
        {
          "output_type": "stream",
          "name": "stdout",
          "text": [
            "Collecting gTTS\n",
            "  Downloading gTTS-2.5.4-py3-none-any.whl.metadata (4.1 kB)\n",
            "Requirement already satisfied: requests<3,>=2.27 in /usr/local/lib/python3.11/dist-packages (from gTTS) (2.32.3)\n",
            "Collecting click<8.2,>=7.1 (from gTTS)\n",
            "  Downloading click-8.1.8-py3-none-any.whl.metadata (2.3 kB)\n",
            "Requirement already satisfied: charset-normalizer<4,>=2 in /usr/local/lib/python3.11/dist-packages (from requests<3,>=2.27->gTTS) (3.4.2)\n",
            "Requirement already satisfied: idna<4,>=2.5 in /usr/local/lib/python3.11/dist-packages (from requests<3,>=2.27->gTTS) (3.10)\n",
            "Requirement already satisfied: urllib3<3,>=1.21.1 in /usr/local/lib/python3.11/dist-packages (from requests<3,>=2.27->gTTS) (2.5.0)\n",
            "Requirement already satisfied: certifi>=2017.4.17 in /usr/local/lib/python3.11/dist-packages (from requests<3,>=2.27->gTTS) (2025.7.14)\n",
            "Downloading gTTS-2.5.4-py3-none-any.whl (29 kB)\n",
            "Downloading click-8.1.8-py3-none-any.whl (98 kB)\n",
            "\u001b[2K   \u001b[90m━━━━━━━━━━━━━━━━━━━━━━━━━━━━━━━━━━━━━━━━\u001b[0m \u001b[32m98.2/98.2 kB\u001b[0m \u001b[31m4.3 MB/s\u001b[0m eta \u001b[36m0:00:00\u001b[0m\n",
            "\u001b[?25hInstalling collected packages: click, gTTS\n",
            "  Attempting uninstall: click\n",
            "    Found existing installation: click 8.2.1\n",
            "    Uninstalling click-8.2.1:\n",
            "      Successfully uninstalled click-8.2.1\n",
            "Successfully installed click-8.1.8 gTTS-2.5.4\n"
          ]
        },
        {
          "output_type": "execute_result",
          "data": {
            "text/plain": [
              "<IPython.lib.display.Audio object>"
            ],
            "text/html": [
              "\n",
              "                <audio  controls=\"controls\" autoplay=\"autoplay\">\n",
              "                    <source src=\"data:audio/mpeg;base64,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\" type=\"audio/mpeg\" />\n",
              "                    Your browser does not support the audio element.\n",
              "                </audio>\n",
              "              "
            ]
          },
          "metadata": {},
          "execution_count": 3
        }
      ]
    }
  ]
}